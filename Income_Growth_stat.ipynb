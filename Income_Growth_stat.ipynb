{
 "cells": [
  {
   "cell_type": "markdown",
   "metadata": {},
   "source": [
    "# <center> ICUP ASSIGNMENT </center> \n",
    "# <center> ANIRUDDHA KRISHNA JHA </center>\n",
    "# <center> SRN : PES1UG19CS064 </center>\n",
    "                                    "
   ]
  },
  {
   "cell_type": "markdown",
   "metadata": {},
   "source": [
    "# <center> 1. Loading .csv file in a dataframe ''Growth\" </center>"
   ]
  },
  {
   "cell_type": "code",
   "execution_count": 2,
   "metadata": {},
   "outputs": [
    {
     "name": "stdout",
     "output_type": "stream",
     "text": [
      "          DATE     China    Brazil       USA\n",
      "0   01-01-1976 -0.030813  0.071762  0.043894\n",
      "1   01-01-1977  0.061140  0.021236  0.035617\n",
      "2   01-01-1978  0.101823  0.007905  0.044491\n",
      "3   01-01-1979  0.061742  0.042530  0.020433\n",
      "4   01-01-1980  0.064630  0.065588 -0.011973\n",
      "5   01-01-1981  0.038338 -0.066154  0.015925\n",
      "6   01-01-1982  0.073419 -0.017348 -0.028415\n",
      "7   01-01-1983  0.092452 -0.055917  0.036801\n",
      "8   01-01-1984  0.136383  0.029616  0.063344\n",
      "9   01-01-1985  0.119091  0.056693  0.033191\n",
      "10  01-01-1986  0.073313  0.058015  0.025594\n",
      "11  01-01-1987  0.099122  0.015828  0.025411\n",
      "12  01-01-1988  0.094579 -0.019698  0.032621\n",
      "13  01-01-1989  0.026007  0.014268  0.027060\n",
      "14  01-01-1990  0.023936 -0.047719  0.007745\n",
      "15  01-01-1991  0.078130 -0.001634 -0.014005\n",
      "16  01-01-1992  0.128249 -0.020441  0.021291\n",
      "17  01-01-1993  0.125660  0.030514  0.013999\n",
      "18  01-01-1994  0.117816  0.037254  0.027696\n",
      "19  01-01-1995  0.097503  0.028163  0.015031\n",
      "20  01-01-1996  0.087822  0.006320  0.025953\n",
      "21  01-01-1997  0.081185  0.017996  0.032366\n",
      "22  01-01-1998  0.068078 -0.012049  0.032394\n",
      "23  01-01-1999  0.067393 -0.010608  0.034899\n",
      "24  01-01-2000  0.076400  0.025529  0.029403\n",
      "25  01-01-2001  0.075558 -0.001064 -0.000185\n",
      "26  01-01-2002  0.084019  0.015584  0.008461\n",
      "27  01-01-2003  0.093524 -0.002810  0.019270\n",
      "28  01-01-2004  0.094592  0.043455  0.028297\n",
      "29  01-01-2005  0.107426  0.019083  0.023970\n",
      "30  01-01-2006  0.120918  0.027522  0.016814\n",
      "31  01-01-2007  0.136363  0.049220  0.008152\n",
      "32  01-01-2008  0.090939  0.040232 -0.012303\n",
      "33  01-01-2009  0.088570 -0.011066 -0.036241\n",
      "34  01-01-2010  0.101031  0.064926  0.016783\n",
      "35  01-01-2011  0.090129  0.029875  0.008283\n",
      "36  01-01-2012  0.073320  0.009724  0.014482\n",
      "37  01-01-2013  0.072269  0.019993  0.009303\n",
      "38  01-01-2014  0.067558 -0.003829  0.015744\n",
      "39  01-01-2015  0.063764 -0.045886  0.017945\n"
     ]
    }
   ],
   "source": [
    "    import pandas as pd\n",
    "    import statistics as st\n",
    "    from os import system, name\n",
    "    \n",
    "    #Loading the CSV file into a dataframe called Growth\n",
    "    Growth = pd.read_csv( \"income_growth.csv\" )\n",
    "    \n",
    "    chi_ls = Growth[\"China\"].tolist()\n",
    "    bra_ls = Growth[\"Brazil\"].tolist()\n",
    "    usa_ls = Growth[\"USA\"].tolist()\n",
    "    print ( Growth )"
   ]
  },
  {
   "cell_type": "markdown",
   "metadata": {},
   "source": [
    "# <center> 2. Mean calculation for the countries </center>"
   ]
  },
  {
   "cell_type": "code",
   "execution_count": 3,
   "metadata": {},
   "outputs": [
    {
     "name": "stdout",
     "output_type": "stream",
     "text": [
      "MEANS\n",
      "China : 0.08308447705\n",
      "Brazil : 0.0133152513\n",
      "USA : 0.01823857365\n"
     ]
    }
   ],
   "source": [
    "chi_mean = st.mean( chi_ls )\n",
    "usa_mean = st.mean( usa_ls )\n",
    "bra_mean = st.mean( bra_ls )\n",
    "print ( \"MEANS\\nChina :\", chi_mean )\n",
    "print ( \"Brazil :\" , bra_mean )\n",
    "print ( \"USA :\" , usa_mean )\n"
   ]
  },
  {
   "cell_type": "markdown",
   "metadata": {},
   "source": [
    "# <center> 3. Median calculation for countries </center>"
   ]
  },
  {
   "cell_type": "code",
   "execution_count": 4,
   "metadata": {},
   "outputs": [
    {
     "name": "stdout",
     "output_type": "stream",
     "text": [
      "MEDIANS\n",
      "China : 0.08592050000000001\n",
      "Brazil : 0.0169122185\n",
      "USA : 0.019851423\n"
     ]
    }
   ],
   "source": [
    "bra_median = st.median( bra_ls )\n",
    "usa_median = st.median( usa_ls )\n",
    "chi_median = st.median( chi_ls )\n",
    "print ( \"MEDIANS\\nChina :\", chi_median )\n",
    "print ( \"Brazil :\" , bra_median )\n",
    "print ( \"USA :\" , usa_median )"
   ]
  },
  {
   "cell_type": "markdown",
   "metadata": {},
   "source": [
    "# <center> 4. Standard Deviation of the Countries </center>"
   ]
  },
  {
   "cell_type": "code",
   "execution_count": 5,
   "metadata": {},
   "outputs": [
    {
     "name": "stdout",
     "output_type": "stream",
     "text": [
      "Standard Deviation\n",
      "China : 0.03220457967358635\n",
      "Brazil : 0.03321109416873655\n",
      "USA : 0.0193857181345136\n"
     ]
    }
   ],
   "source": [
    "chistdd = st.stdev(chi_ls, chi_mean)\n",
    "brastdd = st.stdev(bra_ls, bra_mean)\n",
    "usastdd = st.stdev(usa_ls, usa_mean)\n",
    "print ( \"Standard Deviation\\nChina :\", chistdd )\n",
    "print ( \"Brazil :\" , brastdd )\n",
    "print ( \"USA :\" , usastdd )"
   ]
  },
  {
   "cell_type": "code",
   "execution_count": null,
   "metadata": {},
   "outputs": [],
   "source": []
  }
 ],
 "metadata": {
  "kernelspec": {
   "display_name": "Python 3",
   "language": "python",
   "name": "python3"
  },
  "language_info": {
   "codemirror_mode": {
    "name": "ipython",
    "version": 3
   },
   "file_extension": ".py",
   "mimetype": "text/x-python",
   "name": "python",
   "nbconvert_exporter": "python",
   "pygments_lexer": "ipython3",
   "version": "3.7.4"
  }
 },
 "nbformat": 4,
 "nbformat_minor": 2
}
